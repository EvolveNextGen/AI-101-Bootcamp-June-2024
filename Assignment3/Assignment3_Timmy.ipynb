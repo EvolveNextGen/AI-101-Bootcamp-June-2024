{
 "cells": [
  {
   "cell_type": "code",
   "execution_count": 9,
   "metadata": {},
   "outputs": [],
   "source": [
    "import pandas as pd\n",
    "import numpy as np\n",
    "import matplotlib\n",
    "import sklearn\n",
    "import tensorflow as tf"
   ]
  },
  {
   "cell_type": "code",
   "execution_count": 12,
   "metadata": {},
   "outputs": [
    {
     "name": "stdout",
     "output_type": "stream",
     "text": [
      "     PassengerId  Survived  Pclass  \\\n",
      "0            892         0       3   \n",
      "1            893         1       3   \n",
      "2            894         0       2   \n",
      "3            895         0       3   \n",
      "4            896         1       3   \n",
      "..           ...       ...     ...   \n",
      "413         1305         0       3   \n",
      "414         1306         1       1   \n",
      "415         1307         0       3   \n",
      "416         1308         0       3   \n",
      "417         1309         0       3   \n",
      "\n",
      "                                             Name     Sex   Age  SibSp  Parch  \\\n",
      "0                                Kelly, Mr. James    male  34.5      0      0   \n",
      "1                Wilkes, Mrs. James (Ellen Needs)  female  47.0      1      0   \n",
      "2                       Myles, Mr. Thomas Francis    male  62.0      0      0   \n",
      "3                                Wirz, Mr. Albert    male  27.0      0      0   \n",
      "4    Hirvonen, Mrs. Alexander (Helga E Lindqvist)  female  22.0      1      1   \n",
      "..                                            ...     ...   ...    ...    ...   \n",
      "413                            Spector, Mr. Woolf    male   NaN      0      0   \n",
      "414                  Oliva y Ocana, Dona. Fermina  female  39.0      0      0   \n",
      "415                  Saether, Mr. Simon Sivertsen    male  38.5      0      0   \n",
      "416                           Ware, Mr. Frederick    male   NaN      0      0   \n",
      "417                      Peter, Master. Michael J    male   NaN      1      1   \n",
      "\n",
      "                 Ticket      Fare Cabin Embarked Constant_Feature  \\\n",
      "0                330911    7.8292   NaN        Q         constant   \n",
      "1                363272    7.0000   NaN        S         constant   \n",
      "2                240276    9.6875   NaN        Q         constant   \n",
      "3                315154    8.6625   NaN        S         constant   \n",
      "4               3101298   12.2875   NaN        S         constant   \n",
      "..                  ...       ...   ...      ...              ...   \n",
      "413           A.5. 3236    8.0500   NaN        S         constant   \n",
      "414            PC 17758  108.9000  C105        C         constant   \n",
      "415  SOTON/O.Q. 3101262    7.2500   NaN        S         constant   \n",
      "416              359309    8.0500   NaN        S         constant   \n",
      "417                2668   22.3583   NaN        C         constant   \n",
      "\n",
      "     Pclass_Duplicate Quasi_Constant_Feature  PClass  \n",
      "0                   3               constant      30  \n",
      "1                   3               constant      30  \n",
      "2                   2               constant      20  \n",
      "3                   3               constant      30  \n",
      "4                   3               constant      30  \n",
      "..                ...                    ...     ...  \n",
      "413                 3               constant      30  \n",
      "414                 1               constant      10  \n",
      "415                 3               constant      30  \n",
      "416                 3               constant      30  \n",
      "417                 3               constant      30  \n",
      "\n",
      "[418 rows x 16 columns]\n"
     ]
    }
   ],
   "source": [
    "df = pd.read_csv('Titanic.csv') # loading the data\n",
    "print(df)\n"
   ]
  },
  {
   "cell_type": "code",
   "execution_count": 13,
   "metadata": {},
   "outputs": [
    {
     "name": "stdout",
     "output_type": "stream",
     "text": [
      "Number of rows: 418\n",
      "Number of columns: 16\n"
     ]
    }
   ],
   "source": [
    "# Get the shape of the dataframe\n",
    "num_rows, num_columns = df.shape\n",
    "\n",
    "print(f'Number of rows: {num_rows}')\n",
    "print(f'Number of columns: {num_columns}')\n"
   ]
  },
  {
   "cell_type": "code",
   "execution_count": 14,
   "metadata": {},
   "outputs": [
    {
     "name": "stdout",
     "output_type": "stream",
     "text": [
      "List of columns:\n",
      "['PassengerId', 'Survived', 'Pclass', 'Name', 'Sex', 'Age', 'SibSp', 'Parch', 'Ticket', 'Fare', 'Cabin', 'Embarked', 'Constant_Feature', 'Pclass_Duplicate', 'Quasi_Constant_Feature', 'PClass']\n"
     ]
    }
   ],
   "source": [
    "# Print the list of columns\n",
    "print('List of columns:')\n",
    "print(columns_list)"
   ]
  },
  {
   "cell_type": "code",
   "execution_count": 15,
   "metadata": {},
   "outputs": [
    {
     "name": "stdout",
     "output_type": "stream",
     "text": [
      "Number of missing values in each column:\n",
      "PassengerId                 0\n",
      "Survived                    0\n",
      "Pclass                      0\n",
      "Name                        0\n",
      "Sex                         0\n",
      "Age                        86\n",
      "SibSp                       0\n",
      "Parch                       0\n",
      "Ticket                      0\n",
      "Fare                        1\n",
      "Cabin                     327\n",
      "Embarked                    0\n",
      "Constant_Feature            0\n",
      "Pclass_Duplicate            0\n",
      "Quasi_Constant_Feature      0\n",
      "PClass                      0\n",
      "dtype: int64\n"
     ]
    }
   ],
   "source": [
    "# Find the number of missing values in each column\n",
    "missing_values = df.isnull().sum()\n",
    "\n",
    "# Print the number of missing values in each column\n",
    "print('Number of missing values in each column:')\n",
    "print(missing_values)"
   ]
  },
  {
   "cell_type": "code",
   "execution_count": 17,
   "metadata": {},
   "outputs": [
    {
     "name": "stdout",
     "output_type": "stream",
     "text": [
      "Data Quality Report:\n",
      "                       Data Type  Number of Missing Values  \\\n",
      "Age                      float64                        86   \n",
      "Cabin                     object                       327   \n",
      "Constant_Feature          object                         0   \n",
      "Embarked                  object                         0   \n",
      "Fare                     float64                         1   \n",
      "Name                      object                         0   \n",
      "PClass                     int64                         0   \n",
      "Parch                      int64                         0   \n",
      "PassengerId                int64                         0   \n",
      "Pclass                     int64                         0   \n",
      "Pclass_Duplicate           int64                         0   \n",
      "Quasi_Constant_Feature    object                         0   \n",
      "Sex                       object                         0   \n",
      "SibSp                      int64                         0   \n",
      "Survived                   int64                         0   \n",
      "Ticket                    object                         0   \n",
      "\n",
      "                        Percentage of Missing Values  Number of Unique Values  \\\n",
      "Age                                        20.574163                       79   \n",
      "Cabin                                      78.229665                       76   \n",
      "Constant_Feature                            0.000000                        1   \n",
      "Embarked                                    0.000000                        3   \n",
      "Fare                                        0.239234                      169   \n",
      "Name                                        0.000000                      418   \n",
      "PClass                                      0.000000                        6   \n",
      "Parch                                       0.000000                        8   \n",
      "PassengerId                                 0.000000                      418   \n",
      "Pclass                                      0.000000                        3   \n",
      "Pclass_Duplicate                            0.000000                        3   \n",
      "Quasi_Constant_Feature                      0.000000                        2   \n",
      "Sex                                         0.000000                        2   \n",
      "SibSp                                       0.000000                        7   \n",
      "Survived                                    0.000000                        2   \n",
      "Ticket                                      0.000000                      363   \n",
      "\n",
      "                               Mean     Median  Standard Deviation  Minimum  \\\n",
      "Age                       30.272590    27.0000           14.181209     0.17   \n",
      "Cabin                           NaN        NaN                 NaN      NaN   \n",
      "Constant_Feature                NaN        NaN                 NaN      NaN   \n",
      "Embarked                        NaN        NaN                 NaN      NaN   \n",
      "Fare                      35.627188    14.4542           55.907576     0.00   \n",
      "Name                            NaN        NaN                 NaN      NaN   \n",
      "PClass                    22.655502    30.0000            8.410681    10.00   \n",
      "Parch                      0.392344     0.0000            0.981429     0.00   \n",
      "PassengerId             1100.500000  1100.5000          120.810458   892.00   \n",
      "Pclass                     2.265550     3.0000            0.841838     1.00   \n",
      "Pclass_Duplicate           2.265550     3.0000            0.841838     1.00   \n",
      "Quasi_Constant_Feature          NaN        NaN                 NaN      NaN   \n",
      "Sex                             NaN        NaN                 NaN      NaN   \n",
      "SibSp                      0.447368     0.0000            0.896760     0.00   \n",
      "Survived                   0.363636     0.0000            0.481622     0.00   \n",
      "Ticket                          NaN        NaN                 NaN      NaN   \n",
      "\n",
      "                          Maximum  \n",
      "Age                       76.0000  \n",
      "Cabin                         NaN  \n",
      "Constant_Feature              NaN  \n",
      "Embarked                      NaN  \n",
      "Fare                     512.3292  \n",
      "Name                          NaN  \n",
      "PClass                    30.0000  \n",
      "Parch                      9.0000  \n",
      "PassengerId             1309.0000  \n",
      "Pclass                     3.0000  \n",
      "Pclass_Duplicate           3.0000  \n",
      "Quasi_Constant_Feature        NaN  \n",
      "Sex                           NaN  \n",
      "SibSp                      8.0000  \n",
      "Survived                   1.0000  \n",
      "Ticket                        NaN  \n"
     ]
    }
   ],
   "source": [
    "# Create a data quality report\n",
    "data_quality_report = pd.DataFrame({\n",
    "    'Data Type': df.dtypes,\n",
    "    'Number of Missing Values': df.isnull().sum(),\n",
    "    'Number of Unique Values': df.nunique(),\n",
    "    'Mean': df.mean(numeric_only=True),\n",
    "    'Median': df.median(numeric_only=True),\n",
    "    'Standard Deviation': df.std(numeric_only=True),\n",
    "    'Minimum': df.min(numeric_only=True),\n",
    "    'Maximum': df.max(numeric_only=True)\n",
    "})\n",
    "\n",
    "print('Data Quality Report:')\n",
    "print(data_quality_report)"
   ]
  }
 ],
 "metadata": {
  "kernelspec": {
   "display_name": "timothy",
   "language": "python",
   "name": "python3"
  },
  "language_info": {
   "codemirror_mode": {
    "name": "ipython",
    "version": 3
   },
   "file_extension": ".py",
   "mimetype": "text/x-python",
   "name": "python",
   "nbconvert_exporter": "python",
   "pygments_lexer": "ipython3",
   "version": "3.10.13"
  },
  "orig_nbformat": 4
 },
 "nbformat": 4,
 "nbformat_minor": 2
}
